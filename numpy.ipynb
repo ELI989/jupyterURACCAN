{
 "cells": [
  {
   "cell_type": "code",
   "execution_count": 3,
   "metadata": {},
   "outputs": [],
   "source": [
    "import numpy as np"
   ]
  },
  {
   "cell_type": "code",
   "execution_count": 7,
   "metadata": {},
   "outputs": [],
   "source": [
    "a = np.array([1,2,3])\n",
    "b = np.array([(1.5,2,3), (4,5,6)], dtype = float)\n",
    "c = np.array([[(1.5,2,3), (4,5,6)], [(3,2,1), (4,5,6)]], \n",
    " dtype = float)"
   ]
  },
  {
   "cell_type": "code",
   "execution_count": 12,
   "metadata": {},
   "outputs": [
    {
     "data": {
      "text/plain": [
       "array([[1.39069238e-309, 1.39069238e-309],\n",
       "       [1.39069238e-309, 1.39069238e-309],\n",
       "       [1.39069238e-309, 1.39069238e-309]])"
      ]
     },
     "execution_count": 12,
     "metadata": {},
     "output_type": "execute_result"
    }
   ],
   "source": [
    "np.zeros((3,4))\n",
    "np.ones((2,3,4),dtype=np.int16)\n",
    "d = np.arange(10,25,5)\n",
    "np.linspace(0,2,9)\n",
    "e = np.full((2,2),7) \n",
    "f = np.eye(2) \n",
    "np.random.random((2,2))\n",
    "np.empty((3,2))"
   ]
  },
  {
   "cell_type": "code",
   "execution_count": 13,
   "metadata": {},
   "outputs": [
    {
     "data": {
      "text/plain": [
       "array([1, 2, 3])"
      ]
     },
     "execution_count": 13,
     "metadata": {},
     "output_type": "execute_result"
    }
   ],
   "source": [
    "np.save('my_array', a)\n",
    "np.savez('array.npz', a, b)\n",
    "np.load('my_array.npy')"
   ]
  },
  {
   "cell_type": "code",
   "execution_count": 15,
   "metadata": {},
   "outputs": [
    {
     "data": {
      "text/plain": [
       "array([[1, 2, 3],\n",
       "       [4, 5, 6]])"
      ]
     },
     "execution_count": 15,
     "metadata": {},
     "output_type": "execute_result"
    }
   ],
   "source": [
    "a.shape \n",
    "len(a) \n",
    "b.ndim \n",
    "e.size\n",
    "b.dtype \n",
    "b.dtype.name \n",
    "b.astype(int) \n"
   ]
  },
  {
   "cell_type": "code",
   "execution_count": 16,
   "metadata": {},
   "outputs": [
    {
     "data": {
      "text/plain": [
       "array([[7., 7.],\n",
       "       [7., 7.]])"
      ]
     },
     "execution_count": 16,
     "metadata": {},
     "output_type": "execute_result"
    }
   ],
   "source": [
    "from numpy import array\n",
    "g = a - b\n",
    "array([[-0.5, 0. , 0. ],\n",
    "[-3. , -3. , -3. ]])\n",
    "np.subtract(a,b) \n",
    "b + a\n",
    "array([[ 2.5, 4. , 6. ],\n",
    "[ 5. , 7. , 9. ]])\n",
    "np.add(b,a) \n",
    "a / b\n",
    "array([[ 0.66666667, 1. , 1. ],\n",
    "[ 0.25 , 0.4 , 0.5 ]])\n",
    "a * b\n",
    "array([[ 1.5, 4. , 9. ],\n",
    "[ 4. , 10. , 18. ]])\n",
    "np.divide(a,b) \n",
    "np.multiply(a,b) \n",
    "np.exp(b) \n",
    "np.sqrt(b) \n",
    "np.sin(a) \n",
    "np.cos(b)\n",
    "np.log(a) \n",
    "e.dot(f)\n",
    "array([[ 7., 7.],\n",
    "[ 7., 7.]])"
   ]
  },
  {
   "cell_type": "code",
   "execution_count": 17,
   "metadata": {},
   "outputs": [
    {
     "data": {
      "text/plain": [
       "False"
      ]
     },
     "execution_count": 17,
     "metadata": {},
     "output_type": "execute_result"
    }
   ],
   "source": [
    "a == b \n",
    "array([[False, True, True],\n",
    "[False, False, False]], dtype=bool)\n",
    "a < 2 \n",
    "array([True, False, False], dtype=bool)\n",
    "np.array_equal(a, b) "
   ]
  },
  {
   "cell_type": "code",
   "execution_count": 21,
   "metadata": {},
   "outputs": [
    {
     "data": {
      "text/plain": [
       "array([[1.5, 2. , 3. ],\n",
       "       [4. , 5. , 6. ]])"
      ]
     },
     "execution_count": 21,
     "metadata": {},
     "output_type": "execute_result"
    }
   ],
   "source": [
    "i = np.transpose(b) \n",
    "i.T "
   ]
  },
  {
   "cell_type": "code",
   "execution_count": 22,
   "metadata": {},
   "outputs": [
    {
     "data": {
      "text/plain": [
       "array([[-0.5,  0. ],\n",
       "       [ 0. , -3. ],\n",
       "       [-3. , -3. ]])"
      ]
     },
     "execution_count": 22,
     "metadata": {},
     "output_type": "execute_result"
    }
   ],
   "source": [
    "b.ravel() \n",
    "g.reshape(3,-2)"
   ]
  },
  {
   "cell_type": "code",
   "execution_count": 24,
   "metadata": {},
   "outputs": [
    {
     "data": {
      "text/plain": [
       "array([[ 1, 10],\n",
       "       [ 2, 15],\n",
       "       [ 3, 20]])"
      ]
     },
     "execution_count": 24,
     "metadata": {},
     "output_type": "execute_result"
    }
   ],
   "source": [
    "np.concatenate((a,d),axis=0)\n",
    "array([ 1, 2, 3, 10, 15, 20])\n",
    "np.vstack((a,b)) \n",
    "array([[ 1. , 2. , 3. ],\n",
    "[ 1.5, 2. , 3. ],\n",
    "[ 4. , 5. , 6. ]])\n",
    "np.r_[e,f]\n",
    "np.hstack((e,f)) \n",
    "array([[ 7., 7., 1., 0.], \n",
    "[ 7., 7., 0., 1.]])\n",
    "np.column_stack((a,d)) \n",
    "array([[ 1, 10],\n",
    "[ 2, 15],\n",
    "[ 3, 20]])\n",
    "np.c_[a,d] "
   ]
  },
  {
   "cell_type": "code",
   "execution_count": 25,
   "metadata": {},
   "outputs": [
    {
     "data": {
      "text/plain": [
       "[array([[[1.5, 2. , 1. ],\n",
       "         [4. , 5. , 6. ]]]),\n",
       " array([[[3., 2., 3.],\n",
       "         [4., 5., 6.]]])]"
      ]
     },
     "execution_count": 25,
     "metadata": {},
     "output_type": "execute_result"
    }
   ],
   "source": [
    "np.hsplit(a,3) \n",
    "[array([1]),array([2]),array([3])]\n",
    "np.vsplit(c,2) \n",
    "[array([[[ 1.5, 2. , 1. ],\n",
    "[ 4. , 5. , 6. ]]]), \n",
    "array([[[ 3., 2., 3.],\n",
    "[ 4., 5., 6.]]])]"
   ]
  }
 ],
 "metadata": {
  "kernelspec": {
   "display_name": "Python 3 (ipykernel)",
   "language": "python",
   "name": "python3"
  },
  "language_info": {
   "codemirror_mode": {
    "name": "ipython",
    "version": 3
   },
   "file_extension": ".py",
   "mimetype": "text/x-python",
   "name": "python",
   "nbconvert_exporter": "python",
   "pygments_lexer": "ipython3",
   "version": "3.12.4"
  }
 },
 "nbformat": 4,
 "nbformat_minor": 4
}
